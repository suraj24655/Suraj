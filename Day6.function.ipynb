{
 "cells": [
  {
   "cell_type": "markdown",
   "id": "bf7fd97f-c683-4a28-aef7-753d1f40ba14",
   "metadata": {},
   "source": [
    "# Python Function:-In python  programming language a function is a self contained group of statement which are intended to perform a specific task"
   ]
  },
  {
   "cell_type": "markdown",
   "id": "f8e9e6a2-777e-48d1-8f33-66411aaeccd6",
   "metadata": {},
   "source": [
    "# Advantages of Function:-\n",
    "1. Avoids Repition\n",
    "2.Modularization"
   ]
  },
  {
   "cell_type": "code",
   "execution_count": null,
   "id": "8dc583f7-fa6e-4b9d-80fe-270157f7fc4d",
   "metadata": {},
   "outputs": [],
   "source": [
    "def msg():\n",
    "    \"\"\"This is the function will write statement \"\"\"\n",
    "    print(\"Hello World\")\n",
    "    "
   ]
  },
  {
   "cell_type": "code",
   "execution_count": null,
   "id": "6dd4891b-d01d-485c-965a-3b2fbcf757eb",
   "metadata": {},
   "outputs": [],
   "source": [
    "msg()\n",
    "\n"
   ]
  },
  {
   "cell_type": "code",
   "execution_count": null,
   "id": "c1b7e606-f979-49ae-a253-cc0951c131e9",
   "metadata": {},
   "outputs": [],
   "source": [
    "def msg(str2):\n",
    "    print(str2)\n",
    " "
   ]
  },
  {
   "cell_type": "code",
   "execution_count": null,
   "id": "d3cf9f45-2c9c-4a24-85b0-618f26114fe8",
   "metadata": {},
   "outputs": [],
   "source": [
    "msg('Hello Arun')"
   ]
  },
  {
   "cell_type": "markdown",
   "id": "778de070-b3ed-4c05-9da7-3afade6f9332",
   "metadata": {},
   "source": [
    "# Write a code to Display the wishing message with name using function"
   ]
  },
  {
   "cell_type": "code",
   "execution_count": null,
   "id": "3d038bdb-288a-423c-bc71-b0f056ad5e76",
   "metadata": {},
   "outputs": [],
   "source": [
    "def wish(name):\n",
    "    print(\"Hello \"+name+ \"welcome to my club House\")\n",
    "    print(\"Have a Graet Day\")"
   ]
  },
  {
   "cell_type": "code",
   "execution_count": null,
   "id": "7e93a436-833d-4dd7-b094-6efa185b9ea6",
   "metadata": {},
   "outputs": [],
   "source": [
    "wish('Anurag ')"
   ]
  },
  {
   "cell_type": "code",
   "execution_count": null,
   "id": "88d99377-9337-421a-93d0-ce7bf095eba5",
   "metadata": {},
   "outputs": [],
   "source": [
    "def main():\n",
    "    name=input(\"Enter the Name\")\n",
    "    wish(name)"
   ]
  },
  {
   "cell_type": "code",
   "execution_count": null,
   "id": "1cd55349-0708-48be-855b-5870a35fcf4a",
   "metadata": {},
   "outputs": [],
   "source": [
    "if __name__==\"__main__\":\n",
    "    main()\n"
   ]
  },
  {
   "cell_type": "markdown",
   "id": "539ab2f9-ed5a-41e0-82a8-715b758bb7d9",
   "metadata": {},
   "source": [
    "# Function Types\n",
    "1.Function with no arguments                                                     \n",
    "2.function with required arguments                                  \n",
    "3.function with variable length arguments                                                     \n",
    "4.function with keyword based Arguments                                                   \n",
    "5.funcrion with default arguments                                     \n"
   ]
  },
  {
   "cell_type": "code",
   "execution_count": null,
   "id": "669af189-1f14-43d8-922c-cd3f053dfe72",
   "metadata": {},
   "outputs": [],
   "source": [
    "\n",
    "    "
   ]
  },
  {
   "cell_type": "code",
   "execution_count": null,
   "id": "13d46a5b-542a-460d-8c26-ea67ac3927fa",
   "metadata": {},
   "outputs": [],
   "source": [
    "sum(10,20)"
   ]
  },
  {
   "cell_type": "code",
   "execution_count": null,
   "id": "1713134a-a3d2-4d79-a816-ab7e3d661def",
   "metadata": {},
   "outputs": [],
   "source": [
    "\n",
    "\n",
    "def main():\n",
    "    num1=int(input(\"Enter the num1\"))\n",
    "    num2=int(input(\"Enter the num2\"))\n",
    "    sum(num1,num2)"
   ]
  },
  {
   "cell_type": "code",
   "execution_count": null,
   "id": "8f863697-45fe-4033-abba-3779cf378b7c",
   "metadata": {},
   "outputs": [],
   "source": [
    "if __name__==\"__main__\":\n",
    "    main()"
   ]
  },
  {
   "cell_type": "markdown",
   "id": "fbb7ee6d-c55b-458b-8b6f-30cc0d8fba41",
   "metadata": {},
   "source": [
    "# Write a function to check the number is even or odd"
   ]
  },
  {
   "cell_type": "code",
   "execution_count": null,
   "id": "019db416-b193-48b5-9412-fbfb40abba90",
   "metadata": {},
   "outputs": [],
   "source": [
    "def even_odd(num):\n",
    "    if num%2==0:\n",
    "        return\"the num {0} is even\".format(num)\n",
    "    else:\n",
    "        return \"the num {0} is odd\".format(num)\n",
    "       "
   ]
  },
  {
   "cell_type": "code",
   "execution_count": null,
   "id": "bc39b5a5-f04d-4cef-8441-41d14e4256d0",
   "metadata": {},
   "outputs": [],
   "source": [
    "even_odd(63)\n",
    "l1=[2,4,3,5,12,13,24,25,22,21,23,25,26,27]\n",
    "print(list(map(even_odd,l1)))\n"
   ]
  },
  {
   "cell_type": "code",
   "execution_count": null,
   "id": "2755b33e-4345-40b1-a82b-e4c32c2658d2",
   "metadata": {},
   "outputs": [],
   "source": [
    "def fact(n):\n",
    "    \"\"\"This function give factorial value\"\"\"\n",
    "    prod=1\n",
    "    while n>=1:\n",
    "        prod=prod*n\n",
    "        n=n-1\n",
    "    return prod\n",
    "l2=[2,4,5,6,7,8,9,10]\n",
    "print(list(map(fact,l2)))"
   ]
  },
  {
   "cell_type": "code",
   "execution_count": null,
   "id": "bcc73093-8fae-4f98-93e0-4f556e379db7",
   "metadata": {},
   "outputs": [],
   "source": [
    "def wish():\n",
    "    print(input(\"Enter a wish\"))\n",
    "     "
   ]
  },
  {
   "cell_type": "code",
   "execution_count": null,
   "id": "c2a25fb8-00e8-4412-a80e-0cd6a410d60a",
   "metadata": {},
   "outputs": [],
   "source": [
    "wish()"
   ]
  },
  {
   "cell_type": "markdown",
   "id": "53bb5b98-a90b-4d47-8398-150e5427b863",
   "metadata": {},
   "source": [
    "# define a num that is positive,negative or zero"
   ]
  },
  {
   "cell_type": "code",
   "execution_count": null,
   "id": "e1de6f3d-92f8-4eaf-b1f1-485033cb61db",
   "metadata": {},
   "outputs": [],
   "source": [
    "d\\"
   ]
  },
  {
   "cell_type": "code",
   "execution_count": null,
   "id": "47aca9ba-b473-4be0-ab43-3dc38a8de920",
   "metadata": {},
   "outputs": [],
   "source": [
    "arun(n)"
   ]
  },
  {
   "cell_type": "code",
   "execution_count": null,
   "id": "09f1f7c3-0f96-43e9-9b55-19d2c04d1a8f",
   "metadata": {},
   "outputs": [],
   "source": [
    "def main():\n",
    "    num=int(input(\"Enter a number\"))\n",
    "    if num>0:\n",
    "        print(\"number is positive\")\n",
    "    elif num<0:\n",
    "        print(\"number is negative\")\n",
    "    else:\n",
    "        print(\"number is zer0\")"
   ]
  },
  {
   "cell_type": "code",
   "execution_count": null,
   "id": "a503275c-2465-4991-bda0-864c06e2f372",
   "metadata": {},
   "outputs": [],
   "source": [
    "arun()"
   ]
  },
  {
   "cell_type": "markdown",
   "id": "e559e034-7950-4772-af32-fe76b9ee008f",
   "metadata": {},
   "source": [
    "# Function with variable length of argument user can do multiple number addition"
   ]
  },
  {
   "cell_type": "code",
   "execution_count": null,
   "id": "a130310b-760b-4a46-869d-0934abc8e290",
   "metadata": {},
   "outputs": [],
   "source": []
  },
  {
   "cell_type": "markdown",
   "id": "53677925-3654-4d8a-beff-a27a5f7895f1",
   "metadata": {},
   "source": [
    "# Syntax:-def add(farg,*args)here fargis the formal arguments and args is the variable length of argument"
   ]
  },
  {
   "cell_type": "code",
   "execution_count": null,
   "id": "15ab19aa-c826-49dd-a736-14622caf78c3",
   "metadata": {},
   "outputs": [],
   "source": [
    "def add(fargs,*args):\n",
    "    \"\"\"to add given number\"\"\"\n",
    "    print('formal argument=',fargs)\n",
    "    sum=0\n",
    "    for i in args:\n",
    "        sum=sum+i\n",
    "    print(\"sum of all number\",(fargs+sum))\n",
    "    return\n",
    "\n",
    "add(10,20,30,40,50,60,70,80,90)"
   ]
  },
  {
   "cell_type": "markdown",
   "id": "2b475ca6-0518-42d6-81ca-7c71f99eb5ab",
   "metadata": {},
   "source": [
    "## A keyword varial vlength argumentss that can accept any numbrer of values provided in the format and values"
   ]
  },
  {
   "cell_type": "code",
   "execution_count": null,
   "id": "04e24cf6-dc51-46f3-ab1e-a94ce09efa9d",
   "metadata": {},
   "outputs": [],
   "source": [
    "def display(farg,**kwargs):\n",
    "    print(\"Formal arguments= \",farg)\n",
    "    for x,y in kwargs.items():\n",
    "        print('key={} values={} '.format(x,y))\n",
    "display(1,rno=10,name='arun',marks=600,grade='first')\n"
   ]
  },
  {
   "cell_type": "code",
   "execution_count": null,
   "id": "f1047ce1-24b1-490c-a96b-2248a18ea09e",
   "metadata": {},
   "outputs": [],
   "source": [
    "#multiple value returning function\n",
    "def sum_sub(a,b):\n",
    "    c=a+b\n",
    "    d=a-b\n",
    "    return c,d\n",
    "x,y=sum_sub(10,20)\n",
    "print(\"the addition is {}\".format(x))\n",
    "print(\"the substraction is {}\".format(y))"
   ]
  },
  {
   "cell_type": "code",
   "execution_count": null,
   "id": "c6f95784-f586-4c81-b305-62ebb6bf18f1",
   "metadata": {},
   "outputs": [],
   "source": [
    "def cal():\n",
    "    e=a+b\n",
    "    f=a-b\n",
    "    g=a*b\n",
    "    h=a/b\n",
    "    return e,f,g,h\n",
    "x,y,s,t=su(10,20)\n",
    "print(\"the addition is {}\".format(x))\n",
    "print(\"the substraction is {}\".format(y))\n",
    "print(\"the multipliction is {}\".format(s))\n",
    "print(\"the division is {}\".format(t))\n"
   ]
  },
  {
   "cell_type": "code",
   "execution_count": null,
   "id": "96c659d9-ac82-49aa-8e00-c23fdc41a227",
   "metadata": {},
   "outputs": [],
   "source": [
    "def is_even(num):\n",
    "    \n",
    "    if type(num)==int:\n",
    "        if num % 2 == 0:\n",
    "            return \"num is even\"\n",
    "        else:\n",
    "            return \"num is odd\"\n",
    "    else:\n",
    "        return \"invalid input\""
   ]
  },
  {
   "cell_type": "code",
   "execution_count": null,
   "id": "779ec383-42d0-4237-8614-2abc752a0f52",
   "metadata": {},
   "outputs": [],
   "source": [
    "is_even(\"dh\")"
   ]
  },
  {
   "cell_type": "code",
   "execution_count": null,
   "id": "737566c6-5df1-468d-85bb-7881f16d9424",
   "metadata": {},
   "outputs": [],
   "source": [
    "for i in range(1,11):\n",
    "    x=is_even(i)\n",
    "    print(x)"
   ]
  },
  {
   "cell_type": "code",
   "execution_count": null,
   "id": "992a5bb1-631d-4dda-a979-fd14fe2c804f",
   "metadata": {},
   "outputs": [],
   "source": [
    "print(is_even.__doc__)"
   ]
  },
  {
   "cell_type": "markdown",
   "id": "70539e37-927c-4fc4-abc1-44c87d423525",
   "metadata": {},
   "source": [
    "## Types of Arguments"
   ]
  },
  {
   "cell_type": "markdown",
   "id": "9ba164fb-47ef-4710-97e2-3c0ff6a01ce2",
   "metadata": {},
   "source": [
    "##  types of arguments\n",
    "1)Default arguments\n",
    "\n",
    "2)Positional argument\n",
    "\n",
    "3)Keyword Arguments\n",
    " "
   ]
  },
  {
   "cell_type": "code",
   "execution_count": null,
   "id": "25c87317-1235-4957-a146-cc545183196a",
   "metadata": {},
   "outputs": [],
   "source": [
    "def Sq(a=2,b=4):\n",
    "   return a*b\n",
    "    "
   ]
  },
  {
   "cell_type": "code",
   "execution_count": null,
   "id": "1331706d-672a-47f2-bc09-ad60165e8f7e",
   "metadata": {},
   "outputs": [],
   "source": [
    "Sq(4)"
   ]
  },
  {
   "cell_type": "markdown",
   "id": "56a5aa01-3a32-4b9f-8b47-0ece945c1814",
   "metadata": {},
   "source": [
    "# Keyword Arguments\n",
    "Sq(b=3,a=2)"
   ]
  },
  {
   "cell_type": "code",
   "execution_count": null,
   "id": "c647c6df-2b5c-4a0b-a663-680f88ff46c5",
   "metadata": {},
   "outputs": [],
   "source": [
    "def mul(a,b):\n",
    "    return a*b"
   ]
  },
  {
   "cell_type": "code",
   "execution_count": null,
   "id": "ff8c326a-0038-41c6-89bf-41576c66b557",
   "metadata": {},
   "outputs": [],
   "source": [
    "mul(63,64)"
   ]
  },
  {
   "cell_type": "code",
   "execution_count": null,
   "id": "b0dccca9-67cc-4e83-8e4a-985626fa6dec",
   "metadata": {},
   "outputs": [],
   "source": [
    "# *args\n",
    "def multiply(*args):\n",
    "    product=1\n",
    "\n",
    "    for i in args:\n",
    "        product=product* i\n",
    "    \n",
    "    print(args)\n",
    "    return product\n",
    "multiply(2,4,5,7,94,74,64) "
   ]
  },
  {
   "cell_type": "markdown",
   "id": "1ed397de-7825-4ea2-a7e8-44a39b4f85ce",
   "metadata": {},
   "source": [
    "## args and ** kwrgs are special python keywords in python"
   ]
  },
  {
   "cell_type": "code",
   "execution_count": null,
   "id": "df275776-4bae-4e6c-9dc9-b6f23d39747b",
   "metadata": {},
   "outputs": [],
   "source": []
  },
  {
   "cell_type": "code",
   "execution_count": null,
   "id": "94ca461e-3546-45de-a9d4-b0384168c556",
   "metadata": {},
   "outputs": [],
   "source": [
    "def display(**kwargs):\n",
    "    for(key,value) in kwargs.items():\n",
    "        print(key,\"- - ->\",value)"
   ]
  },
  {
   "cell_type": "markdown",
   "id": "5519038f-f270-425e-9b60-83b8d93ac9bb",
   "metadata": {},
   "source": [
    "display(India=\"Delihi\",Srilanka=\"colombo\",nepal=\"katmadu\",pakistan=\"Islamabad\")"
   ]
  },
  {
   "cell_type": "markdown",
   "id": "fa2d1179-7e15-4105-a205-7ad401920415",
   "metadata": {},
   "source": [
    "# Function without return statement"
   ]
  },
  {
   "cell_type": "code",
   "execution_count": null,
   "id": "6cb08721-0cc7-48c6-9ee0-59a55ecbc301",
   "metadata": {},
   "outputs": [],
   "source": [
    "\n",
    "l1=[1,2,3,4]\n",
    "print(l1.append(5))"
   ]
  },
  {
   "cell_type": "markdown",
   "id": "8fec67de-514a-47da-9bee-1a92cfef4832",
   "metadata": {},
   "source": [
    "l1"
   ]
  },
  {
   "cell_type": "markdown",
   "id": "43a13028-67a9-432e-9902-03a4a38579c8",
   "metadata": {},
   "source": [
    "# how function works on memory"
   ]
  },
  {
   "cell_type": "markdown",
   "id": "e1217205-6f9e-48f6-9174-96fd5577e31a",
   "metadata": {},
   "source": [
    "# Variable Scope"
   ]
  },
  {
   "cell_type": "code",
   "execution_count": 1,
   "id": "2a2c891e-0d40-4290-8f96-a361b26d0907",
   "metadata": {},
   "outputs": [
    {
     "name": "stdout",
     "output_type": "stream",
     "text": [
      "5\n",
      "6\n",
      "5\n"
     ]
    }
   ],
   "source": [
    "def g(y):\n",
    "    print(x)\n",
    "    print(x+1)\n",
    "\n",
    "x=5\n",
    "g(x)\n",
    "print(x)"
   ]
  },
  {
   "cell_type": "code",
   "execution_count": 3,
   "id": "dfa885ad-74ec-4298-8d7c-c90407eac80b",
   "metadata": {},
   "outputs": [
    {
     "name": "stdout",
     "output_type": "stream",
     "text": [
      "3\n",
      "5\n"
     ]
    }
   ],
   "source": [
    "def f(y):\n",
    "    x =1\n",
    "    x +=1\n",
    "    print(x+1)\n",
    "x = 5\n",
    "f(x)\n",
    "print(x)"
   ]
  },
  {
   "cell_type": "code",
   "execution_count": 9,
   "id": "8bb19827-aed6-424c-b4e0-a05fa1e1ee62",
   "metadata": {},
   "outputs": [
    {
     "name": "stdout",
     "output_type": "stream",
     "text": [
      "5\n"
     ]
    }
   ],
   "source": [
    "def h(y):\n",
    "    x =1\n",
    "\n",
    "x=5\n",
    "h(x)\n",
    "print(x)\n",
    "\n"
   ]
  },
  {
   "cell_type": "code",
   "execution_count": 10,
   "id": "18a0d3fa-3ed7-4b93-ab9e-fe682baf2822",
   "metadata": {},
   "outputs": [
    {
     "name": "stdout",
     "output_type": "stream",
     "text": [
      "4\n"
     ]
    }
   ],
   "source": [
    "def f(x):\n",
    "    x=x+1\n",
    "    return x\n",
    "\n",
    "x=3\n",
    "z=f(x)\n",
    "print(z)"
   ]
  },
  {
   "cell_type": "code",
   "execution_count": null,
   "id": "081ec1c4-44ac-44ca-805e-92c7976a372a",
   "metadata": {},
   "outputs": [],
   "source": []
  }
 ],
 "metadata": {
  "kernelspec": {
   "display_name": "Python 3 (ipykernel)",
   "language": "python",
   "name": "python3"
  },
  "language_info": {
   "codemirror_mode": {
    "name": "ipython",
    "version": 3
   },
   "file_extension": ".py",
   "mimetype": "text/x-python",
   "name": "python",
   "nbconvert_exporter": "python",
   "pygments_lexer": "ipython3",
   "version": "3.11.7"
  }
 },
 "nbformat": 4,
 "nbformat_minor": 5
}
